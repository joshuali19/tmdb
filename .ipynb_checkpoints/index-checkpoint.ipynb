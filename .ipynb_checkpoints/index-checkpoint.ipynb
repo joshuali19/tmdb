{
 "cells": [
  {
   "cell_type": "raw",
   "id": "7e6c92a1-aa38-405e-9e0b-9d22814f2371",
   "metadata": {},
   "source": [
    "---\n",
    "title: \"Scraping TMDB with Scrapy\"\n",
    "author: \"Joshua Li\"\n",
    "format:\n",
    "    html:\n",
    "    code-fold: true\n",
    "execute: true\n",
    "jupyter: pic16b\n",
    "---"
   ]
  },
  {
   "cell_type": "markdown",
   "id": "07ba5967-5d15-429d-8675-31ba86239293",
   "metadata": {},
   "source": [
    "For this blog post, we will dive into web scraping. We will be looking into the movie database (TMDB) as our website which we will scrape data from. **The goal of this article will be to look at a specific TV show, find all of its actors, and record their whole filmography (as actors).** After reading through this article, you will be able to:\n",
    "\n",
    "1. Extract elements from a web page\n",
    "2. Create a spider\n",
    "3. Automate extraction through the spider\n",
    "4. Figure out how to avoid website blockers"
   ]
  },
  {
   "cell_type": "markdown",
   "id": "332458e3-93d4-4245-923c-757d8b21e9e5",
   "metadata": {},
   "source": [
    "## Extract elements from a web page {#step1}\n",
    "\n",
    "This is practice to figure out what CSS elements are needed to be extracted. This is done manually so that you get a good sense of how to access specific elements. In this example, we will be looking at the web page corresponding to [*Community*](https://www.themoviedb.org/tv/18347-community). \n",
    "\n",
    "In general, the framework of extracting elements is as follows:\n",
    "- find the element you want to extract\n",
    "- right-click on the element, and select \"Inspect\".\n",
    "- note the HTML tags that uniquely identify that element.\n",
    "\n",
    "### Navigate to \"Full Cast & Crew\"\n",
    "\n",
    "For this project, we want to view the \"Full Cast & Crew\" page of the TV page. We will find that in the middle-left of the page, and we can see that the HTML tags wrapped around it are `<section class=\"panel top_billed\">`, `<p>` and `<a>` tags. We can see the URL we want to go to reflects a relative path that adds to the current web page (i.e. `/cast`).\n",
    "\n",
    "**INSERT PICTURE HERE**\n",
    "\n",
    "We will now go to this page.\n",
    "\n",
    "### Navigate to an Actor's Page\n",
    "\n",
    "Since we want to find the filmography of every actor, we need to navigate to each individual actor's page. For this example, we will look at navigating to Joel McHale's (plays Jeff Winger in *Community*) page.\n",
    "\n",
    "The element we want is McHale's headshot, which provides a URL to go to his page. We inspect this element, and see that his headshot is within a `<ol class=\"people credits\">`, `<li>`, `<a>` tag. We want the URL found in the `<a>` tag, in the attribute `href`. \n",
    "\n",
    "**INSERT PICTURE HERE**\n",
    "\n",
    "We can now navigate to his page.\n",
    "\n",
    "### Extract all the works they have acted in\n",
    "\n",
    "Now, we are able to look at McHale's work in the `Acting` section. We will look at how to extract his name from the page, as well as \"California King\" from the filmography. \n",
    "\n",
    "First, we will extract his name from the big title on the top of the page. We can see that the element is wrapped in a `<div class=\"title\">`, and `<a>` tag.\n",
    "\n",
    "**INSERT PICTURES HERE**\n",
    "\n",
    "Now, let us look at \"California King\". We can see that it is wrapped in a `<table class=\"card credits\">`, `<a class=\"tooltip\">`, and `<bdi>` tag.\n",
    "\n",
    "**INSERT PICTURES HERE**\n",
    "\n",
    "With this information, we can now begin to automate this process with `scrapy`."
   ]
  },
  {
   "cell_type": "markdown",
   "id": "ae403a72-dfde-4d4d-a3e2-9bd9f0d5a195",
   "metadata": {},
   "source": [
    "## Create A Spider\n",
    "\n",
    "This section will look at the creation of a spider. There are a couple of steps that you need to take.\n",
    "\n",
    "1. Create a new repository\n",
    "2. Ensure `scrapy` is in your environment \n",
    "3. Start a `scrapy` project in the repository\n",
    "\n",
    "### Create a new repository\n",
    "\n",
    "The first step is to create a new GitHub repository. This is done through a [GitHub](https://github.com/) account. This repository will house your spider, and can be version controlled to account for different changes. Sync it up with your corresponding GitHub Desktop account, and clone the repository to your local device with this [tutorial](https://git-scm.com/book/en/v2/Git-Basics-Getting-a-Git-Repository).\n",
    "\n",
    "Now that the repository is local, we can move on to the next step.\n",
    "\n",
    "### Ensure `scrapy` is in your environment\n",
    "\n",
    "The easiest way to do this is to open up **Anaconda-Navigator**, and to look at the tab \"Environments\". Find the environment that corresponds to the one you will run the spider on. Search for `scrapy` on the installed packages. If it doesn't show up, find it on the uninstalled packages and install it.\n",
    "\n",
    "### Start a `scrapy` project in the repository\n",
    "\n",
    "Since you have `scrapy` installed and a local repository, navigate to the local repository via Terminal, and type the following:\n",
    "\n",
    "```\n",
    "conda activate <myenv>\n",
    "scrapy startproject TMDB_scraper\n",
    "cd TMDB_scraper\n",
    "```\n",
    "\n",
    "This will automatically create a spider with the necessary python files for it to run. In particular, we will use `settings.py`. Go into the `spiders` folder and also create a `tmdb_spider.py` file and write this as the base."
   ]
  },
  {
   "cell_type": "code",
   "execution_count": 39,
   "id": "f0d1b648-84d9-4f13-a359-1b8f7395402a",
   "metadata": {},
   "outputs": [],
   "source": [
    "# to run \n",
    "# scrapy crawl tmdb_spider -o movies.csv\n",
    "\n",
    "import scrapy\n",
    "\n",
    "class TmdbSpider(scrapy.Spider):\n",
    "    name = 'tmdb_spider'\n",
    "    \n",
    "    start_urls = ['https://www.themoviedb.org/tv/18347-community']"
   ]
  },
  {
   "cell_type": "markdown",
   "id": "04b38cae-78a4-4bac-a549-c374ad638ba6",
   "metadata": {},
   "source": [
    "## Automate extraction through the spider\n",
    "\n",
    "We will now automate extraction through the spider. This is where we will need to recall the information we gained earlier (see [above]{#step1}), as well as have knowledge of CSS selectors. Find out more about CSS selectors [here](https://flukeout.github.io/) and [here](https://www.w3schools.com/cssref/css_selectors.php). As you experiment with how to extract this via code, it is helpful to use [`scrapy shell`](https://docs.scrapy.org/en/latest/topics/shell.html) instead of using trial and error and running `.py` files. \n",
    "\n",
    "### Scrapy Shell\n",
    "\n",
    "Here is a small example of using `scrapy shell` for experimentation. Navigate to the repository, open up a terminal, and run `scrapy shell https://www.themoviedb.org/tv/18347-community`(**NOTE**: You may run into errors such as 403, please look to [here](#step4) for guidance on how to resolve that; you want to see numbers of the form 200).\n",
    "\n",
    "Here is what happens when you run `scrapy shell https://www.themoviedb.org/tv/18347-community`, which is a request to access the main page for *Community*.\n",
    "\n",
    "**INSERT PICTURE HERE**\n",
    "\n",
    "You can see that there is are two lines of `GET (200) ...`, which signifies that the request went through. I then sent a request to find the URL for the \"Full Cast & Crew\" page, by subsetting via the tags it is wrapped in:\n",
    "```\n",
    "response.css(\"section.top_billed p.new_button a\").attrib['href']\n",
    "```\n",
    "\n",
    "This can be done to experiment with other subsetting to ensure you are getting the right elements.\n",
    "\n",
    "### Creating Functions to Scrape TMDB\n",
    "\n",
    "Now, we are able to create a web scraper, complete with functions that will do it for us at one command. The repository is linked [here](https://github.com/joshuali19/tmdb) for your convenience to look at the full code and layout of files. There are three main functions necessary for us to scrape the filmography of actors from *Community*. We need a function to parse to main TV page, one to parse the list of actors, and one to parse the actor's filmography. All of these functions should go into the `tmdb_spider.py` file under the `TmdbSpider` class. I will go through each one.\n",
    "\n",
    "#### Parsing main TV page"
   ]
  },
  {
   "cell_type": "code",
   "execution_count": 44,
   "id": "6a8217fd-0e08-4e7c-bfff-28e944fd83e3",
   "metadata": {},
   "outputs": [],
   "source": [
    "def parse(self, response):\n",
    "        '''\n",
    "        Parses the TMDB cast and crew website.\n",
    "        @ input:\n",
    "        - self: TmdbSpider\n",
    "        - response: the call to start_urls[0]\n",
    "        @ output:\n",
    "        - yields a request to navigate to the page with actors.\n",
    "        '''\n",
    "        cast = self.start_urls[0] + '/cast' # hardcode the cast page\n",
    "        \n",
    "        # go to cast & crew page, run parse_full_credits\n",
    "        yield scrapy.Request(cast, callback = self.parse_full_credits)"
   ]
  },
  {
   "cell_type": "markdown",
   "id": "3ed4668c-fcea-4699-a149-bb2d86da63f5",
   "metadata": {},
   "source": [
    "This function gets the starting URL, which is linked to the TMDB *Community* page. Since we recognize that the \"Full Cast & Crew\" can be found by just adding `/cast` to the end of the URL, we just hardcode that in, and send a request to go to that URL, and to run `parse_full_credits`."
   ]
  },
  {
   "cell_type": "code",
   "execution_count": 45,
   "id": "bdb43dd4-ec17-40b7-b928-bd81abf04713",
   "metadata": {},
   "outputs": [],
   "source": [
    "def parse_full_credits(self, response):\n",
    "        '''\n",
    "        for each actor, goes to their respective acting profile page on TMDB.\n",
    "        @ input:\n",
    "        - self: TmdbSpider\n",
    "        - response: the call to the \"Full Cast & Crew\" page\n",
    "        @ output:\n",
    "        - yields a request to navigate to the profile page of each actor.\n",
    "        '''\n",
    "        \n",
    "        # for each page redirection on the cast photos\n",
    "        for page in response.css('ol.people.credits:not(.crew) li a'):\n",
    "            actor_page = page.attrib['href'] # obtain the hyperlink\n",
    "            actor_page = 'https://www.themoviedb.org' + actor_page # append to main url\n",
    "            \n",
    "            # go to the actor's page, run parse_actor_page\n",
    "            yield scrapy.Request(actor_page, callback = self.parse_actor_page)"
   ]
  },
  {
   "cell_type": "markdown",
   "id": "238135d9-481c-4748-ba5d-a3ea7c94a95f",
   "metadata": {},
   "source": [
    "This function assumes that we are on the page with all the actors in *Community*. We now need to navigate to every actor's home page. As mentioned earlier, we know that the link is contained within the HTML tags of `<ol class=\"people credits\">`, `<li>`, and `<a>`. However, that alone is not enough to get **ONLY** the actors; it includes the crew members. We don't want that, so looking further into the HTML code, we see that the crew members has a special designation in their tag `<ol class=\"people credits crew\">`. We can use this to our advantage to omit any `<ol>` tags with class \"crew\" with the `:not()` CSS selector. Now, we get that for every element within the actors section, obtain the hyperlink for their page, and submit a request to go to the actor's profile, for every actor in *Community*."
   ]
  },
  {
   "cell_type": "code",
   "execution_count": 37,
   "id": "eb2b124c-9ba1-4061-970a-ff05c824d523",
   "metadata": {},
   "outputs": [],
   "source": [
    "def parse_actor_page(self, response):\n",
    "        '''\n",
    "        obtains the films of the actor.\n",
    "        @ input:\n",
    "        - self: TmdbSpider\n",
    "        - response: the call to the actor's page\n",
    "        @ output:\n",
    "        - yields a dictionary with actor name and movie.\n",
    "        '''\n",
    "        # obtain the actor name\n",
    "        actor_name = response.css('div.title a::text').get()\n",
    "        \n",
    "        # for each of the links in the acting section of his or her page\n",
    "        for acting_gig in response.css('h3.zero + table.card.credits a.tooltip bdi::text'):\n",
    "            title = acting_gig.get() # obtain the right URL\n",
    "            \n",
    "            yield {'actor': actor_name, 'movie_or_TV_name': title} \n",
    "            # yield a dictionary with actor and title of movie they were in."
   ]
  },
  {
   "cell_type": "markdown",
   "id": "e5378aaf-fe95-434d-8990-aa62e69fd57a",
   "metadata": {},
   "source": [
    "This function assumes that you are on the actor's page. We first need to get the actor's name for our dictionary, which is conveniently placed in bold font at the top of the page in a `<div class=\"title\">` and `<a>` tag. The harder part is getting the movies/TV shows that the actor has acted in. In this case, it is found underneath `<h3 class=\"zero\">`. The selectors to the right of the `+` operator denote that you only want to find elements within `h3.zero`. You go within the `<table class=\"card credits\">` and `<a class=\"tooltip\">` and `<bdi>` tags to get the text within these subsets. That will give you the title. For every film, we can yield a dictionary linking a person with a specific film."
   ]
  },
  {
   "cell_type": "markdown",
   "id": "f2ac242b-00ff-4105-a16b-80ce5938d63a",
   "metadata": {},
   "source": [
    "With these three functions, we are able to run the spider and have it crawl the TMDB website for *Community* websites. This can apply to any other start URL for other movies or TV shows."
   ]
  },
  {
   "cell_type": "markdown",
   "id": "788809a1-9631-4404-9319-737f4287f22e",
   "metadata": {},
   "source": [
    "### Figure out how to avoid blockers"
   ]
  },
  {
   "cell_type": "markdown",
   "id": "60bd1036-093a-41dd-9230-cf96cf16782a",
   "metadata": {},
   "source": [
    "This is something that will be common as you scrape the web more. Websites will have methods that will determine if there is a bot or a program scraping data. If they detect suspicious behavior of this sort, they will block the request to obtain data, which will be displayed in the form of `40_` errors. This is a hinderance to data collection, but there are workarounds for it. \n",
    "\n",
    "For this example with the default settings, TMDB will block requests to access their data, creating a `403` error. My workaround was based off of this [article](https://scrapeops.io/python-scrapy-playbook/scrapy-403-unhandled-forbidden-error/): I changed three lines in my `settings.py` file. \n",
    "\n",
    "By default, your `scrapy` user agent will identify itself as a scraper when it goes to scrape websites. However, this is a clear indicator for websites to block the request. I changed the user agent by assigning a common user agent in my `settings.py` file."
   ]
  },
  {
   "cell_type": "code",
   "execution_count": 1,
   "id": "fd846824-afd9-4529-a6c7-ac51f344be28",
   "metadata": {},
   "outputs": [],
   "source": [
    "## settings.py\n",
    "\n",
    "USER_AGENT = 'Mozilla/5.0 (Windows NT 10.0; Win64; x64) AppleWebKit/537.36 (KHTML, like Gecko) Chrome/51.0.2704.79 Safari/537.36 Edge/14.14393'"
   ]
  },
  {
   "cell_type": "markdown",
   "id": "2a94914f-5da5-423b-8d6c-3b6cd9c94f7f",
   "metadata": {},
   "source": [
    "Another way that websites can discern a suspicious request is the speed of download requests. An automated bot that knows where to look would be faster than any human interaction with the interface. Therefore, it is important to set a good delay of download to not raise suspicions."
   ]
  },
  {
   "cell_type": "code",
   "execution_count": 2,
   "id": "9c44dbe3-cd7f-4e82-9c5f-017467506046",
   "metadata": {},
   "outputs": [],
   "source": [
    "## settings.py\n",
    "\n",
    "# Configure a delay for requests for the same website (default: 0)\n",
    "# See https://docs.scrapy.org/en/latest/topics/settings.html#download-delay\n",
    "# See also autothrottle settings and docs\n",
    "DOWNLOAD_DELAY = 5"
   ]
  },
  {
   "cell_type": "markdown",
   "id": "a4889d4a-3184-4473-ae70-a522fadded97",
   "metadata": {},
   "source": [
    "The last thing I did was disable cookies, because some websites use cookies to spot bot behavior."
   ]
  },
  {
   "cell_type": "code",
   "execution_count": 3,
   "id": "5bf86def-2d50-407b-afb2-fcea8d761af4",
   "metadata": {},
   "outputs": [],
   "source": [
    "## settings.py\n",
    "\n",
    "# Disable cookies (enabled by default)\n",
    "COOKIES_ENABLED = False"
   ]
  },
  {
   "cell_type": "markdown",
   "id": "cb3254eb-9b33-4d80-905d-16e254d0478b",
   "metadata": {},
   "source": [
    "However, these changes may not work for everyone. I would advise you to check out these other links ([link1](https://doc.scrapy.org/en/latest/topics/practices.html#avoiding-getting-banned), [link2](https://scrapeops.io/web-scraping-playbook/403-forbidden-error-web-scraping/), [link3](https://scrapingrobot.com/blog/most-common-user-agents/)) for more help."
   ]
  },
  {
   "cell_type": "markdown",
   "id": "c415e13d-06b3-47d2-b22d-19eafbb14665",
   "metadata": {},
   "source": [
    "### Bonus: Visualizing Scraped Data "
   ]
  },
  {
   "cell_type": "markdown",
   "id": "625e1dc0-b051-4769-bead-79cfbeeaba7c",
   "metadata": {},
   "source": [
    "With this scraper, we are able to save our findings in a `.csv` file with the actor and respective movies they acted in. This is done through the terminal, running the command\n",
    "\n",
    "```\n",
    "scrapy crawl tmdb_spider -O movies.csv\n",
    "```"
   ]
  },
  {
   "cell_type": "markdown",
   "id": "ec242209-c59b-4b92-89b2-6c7a9fd45bd1",
   "metadata": {},
   "source": [
    "We can use this data to create visualizations for the most common movies/TV shows that these actors have also played in. "
   ]
  },
  {
   "cell_type": "code",
   "execution_count": 40,
   "id": "6f36d8a5-226a-43ab-b1fc-6100b7836505",
   "metadata": {},
   "outputs": [],
   "source": [
    "import pandas as pd\n",
    "import numpy as np\n",
    "\n",
    "movies = pd.read_csv(\"./TMDB_scraper/movies.csv\")"
   ]
  },
  {
   "cell_type": "code",
   "execution_count": 41,
   "id": "71fcbaa2-6870-4b0d-b8df-dfd33cd4c026",
   "metadata": {},
   "outputs": [
    {
     "data": {
      "text/html": [
       "<div>\n",
       "<style scoped>\n",
       "    .dataframe tbody tr th:only-of-type {\n",
       "        vertical-align: middle;\n",
       "    }\n",
       "\n",
       "    .dataframe tbody tr th {\n",
       "        vertical-align: top;\n",
       "    }\n",
       "\n",
       "    .dataframe thead th {\n",
       "        text-align: right;\n",
       "    }\n",
       "</style>\n",
       "<table border=\"1\" class=\"dataframe\">\n",
       "  <thead>\n",
       "    <tr style=\"text-align: right;\">\n",
       "      <th></th>\n",
       "      <th>actor</th>\n",
       "      <th>movie_or_TV_name</th>\n",
       "    </tr>\n",
       "  </thead>\n",
       "  <tbody>\n",
       "    <tr>\n",
       "      <th>0</th>\n",
       "      <td>Joel McHale</td>\n",
       "      <td>California King</td>\n",
       "    </tr>\n",
       "    <tr>\n",
       "      <th>1</th>\n",
       "      <td>Joel McHale</td>\n",
       "      <td>Mortal Kombat Legends: Cage Match</td>\n",
       "    </tr>\n",
       "    <tr>\n",
       "      <th>2</th>\n",
       "      <td>Joel McHale</td>\n",
       "      <td>Untitled Community Movie</td>\n",
       "    </tr>\n",
       "    <tr>\n",
       "      <th>3</th>\n",
       "      <td>Joel McHale</td>\n",
       "      <td>Parachute</td>\n",
       "    </tr>\n",
       "    <tr>\n",
       "      <th>4</th>\n",
       "      <td>Joel McHale</td>\n",
       "      <td>Animal Control</td>\n",
       "    </tr>\n",
       "    <tr>\n",
       "      <th>...</th>\n",
       "      <td>...</td>\n",
       "      <td>...</td>\n",
       "    </tr>\n",
       "    <tr>\n",
       "      <th>16948</th>\n",
       "      <td>Gillian Jacobs</td>\n",
       "      <td>American Dad!</td>\n",
       "    </tr>\n",
       "    <tr>\n",
       "      <th>16949</th>\n",
       "      <td>Gillian Jacobs</td>\n",
       "      <td>Building Girl</td>\n",
       "    </tr>\n",
       "    <tr>\n",
       "      <th>16950</th>\n",
       "      <td>Gillian Jacobs</td>\n",
       "      <td>The Venture Bros.</td>\n",
       "    </tr>\n",
       "    <tr>\n",
       "      <th>16951</th>\n",
       "      <td>Gillian Jacobs</td>\n",
       "      <td>Law &amp; Order: Criminal Intent</td>\n",
       "    </tr>\n",
       "    <tr>\n",
       "      <th>16952</th>\n",
       "      <td>Gillian Jacobs</td>\n",
       "      <td>Aqua Teen Hunger Force</td>\n",
       "    </tr>\n",
       "  </tbody>\n",
       "</table>\n",
       "<p>16953 rows × 2 columns</p>\n",
       "</div>"
      ],
      "text/plain": [
       "                actor                   movie_or_TV_name\n",
       "0         Joel McHale                    California King\n",
       "1         Joel McHale  Mortal Kombat Legends: Cage Match\n",
       "2         Joel McHale           Untitled Community Movie\n",
       "3         Joel McHale                          Parachute\n",
       "4         Joel McHale                     Animal Control\n",
       "...               ...                                ...\n",
       "16948  Gillian Jacobs                      American Dad!\n",
       "16949  Gillian Jacobs                      Building Girl\n",
       "16950  Gillian Jacobs                  The Venture Bros.\n",
       "16951  Gillian Jacobs       Law & Order: Criminal Intent\n",
       "16952  Gillian Jacobs             Aqua Teen Hunger Force\n",
       "\n",
       "[16953 rows x 2 columns]"
      ]
     },
     "execution_count": 41,
     "metadata": {},
     "output_type": "execute_result"
    }
   ],
   "source": [
    "movies"
   ]
  },
  {
   "cell_type": "code",
   "execution_count": 18,
   "id": "469beaca-30a1-4b0e-9204-8a5bf5a7e999",
   "metadata": {},
   "outputs": [],
   "source": [
    "# get the count of actors in each TV/movie\n",
    "shared_movies = movies.groupby('movie_or_TV_name').agg(len).sort_values('actor', ascending = False).reset_index()"
   ]
  },
  {
   "cell_type": "code",
   "execution_count": 42,
   "id": "9e506b7f-3a40-426d-8c79-95af62eef979",
   "metadata": {},
   "outputs": [],
   "source": [
    "t20_shared_movies = shared_movies[1:21] # gets the first 20 films, besides Community (#1)"
   ]
  },
  {
   "cell_type": "code",
   "execution_count": 36,
   "id": "08016183-3ac7-429c-a79b-166b65adbc4b",
   "metadata": {},
   "outputs": [
    {
     "data": {
      "application/vnd.plotly.v1+json": {
       "config": {
        "plotlyServerURL": "https://plot.ly"
       },
       "data": [
        {
         "alignmentgroup": "True",
         "hovertemplate": "Movie/TV Show=%{x}<br>Number of Shared Actors=%{y}<extra></extra>",
         "legendgroup": "",
         "marker": {
          "color": "#636efa",
          "pattern": {
           "shape": ""
          }
         },
         "name": "",
         "offsetgroup": "",
         "orientation": "v",
         "showlegend": false,
         "textposition": "auto",
         "texttemplate": "%{y:.2s}",
         "type": "bar",
         "x": [
          "CSI: Crime Scene Investigation",
          "Brooklyn Nine-Nine",
          "American Dad!",
          "Modern Family",
          "Bones",
          "Curb Your Enthusiasm",
          "NCIS",
          "Criminal Minds",
          "Castle",
          "New Girl",
          "Parks and Recreation",
          "How I Met Your Mother",
          "Drunk History",
          "Malcolm in the Middle",
          "The View",
          "Family Guy",
          "Jimmy Kimmel Live!",
          "Conan",
          "ER",
          "The Simpsons"
         ],
         "xaxis": "x",
         "y": [
          53,
          46,
          44,
          41,
          40,
          38,
          36,
          36,
          35,
          35,
          33,
          33,
          30,
          30,
          30,
          29,
          28,
          25,
          25,
          24
         ],
         "yaxis": "y"
        }
       ],
       "layout": {
        "autosize": true,
        "barmode": "relative",
        "legend": {
         "tracegroupgap": 0
        },
        "template": {
         "data": {
          "bar": [
           {
            "error_x": {
             "color": "#2a3f5f"
            },
            "error_y": {
             "color": "#2a3f5f"
            },
            "marker": {
             "line": {
              "color": "#E5ECF6",
              "width": 0.5
             },
             "pattern": {
              "fillmode": "overlay",
              "size": 10,
              "solidity": 0.2
             }
            },
            "type": "bar"
           }
          ],
          "barpolar": [
           {
            "marker": {
             "line": {
              "color": "#E5ECF6",
              "width": 0.5
             },
             "pattern": {
              "fillmode": "overlay",
              "size": 10,
              "solidity": 0.2
             }
            },
            "type": "barpolar"
           }
          ],
          "carpet": [
           {
            "aaxis": {
             "endlinecolor": "#2a3f5f",
             "gridcolor": "white",
             "linecolor": "white",
             "minorgridcolor": "white",
             "startlinecolor": "#2a3f5f"
            },
            "baxis": {
             "endlinecolor": "#2a3f5f",
             "gridcolor": "white",
             "linecolor": "white",
             "minorgridcolor": "white",
             "startlinecolor": "#2a3f5f"
            },
            "type": "carpet"
           }
          ],
          "choropleth": [
           {
            "colorbar": {
             "outlinewidth": 0,
             "ticks": ""
            },
            "type": "choropleth"
           }
          ],
          "contour": [
           {
            "colorbar": {
             "outlinewidth": 0,
             "ticks": ""
            },
            "colorscale": [
             [
              0,
              "#0d0887"
             ],
             [
              0.1111111111111111,
              "#46039f"
             ],
             [
              0.2222222222222222,
              "#7201a8"
             ],
             [
              0.3333333333333333,
              "#9c179e"
             ],
             [
              0.4444444444444444,
              "#bd3786"
             ],
             [
              0.5555555555555556,
              "#d8576b"
             ],
             [
              0.6666666666666666,
              "#ed7953"
             ],
             [
              0.7777777777777778,
              "#fb9f3a"
             ],
             [
              0.8888888888888888,
              "#fdca26"
             ],
             [
              1,
              "#f0f921"
             ]
            ],
            "type": "contour"
           }
          ],
          "contourcarpet": [
           {
            "colorbar": {
             "outlinewidth": 0,
             "ticks": ""
            },
            "type": "contourcarpet"
           }
          ],
          "heatmap": [
           {
            "colorbar": {
             "outlinewidth": 0,
             "ticks": ""
            },
            "colorscale": [
             [
              0,
              "#0d0887"
             ],
             [
              0.1111111111111111,
              "#46039f"
             ],
             [
              0.2222222222222222,
              "#7201a8"
             ],
             [
              0.3333333333333333,
              "#9c179e"
             ],
             [
              0.4444444444444444,
              "#bd3786"
             ],
             [
              0.5555555555555556,
              "#d8576b"
             ],
             [
              0.6666666666666666,
              "#ed7953"
             ],
             [
              0.7777777777777778,
              "#fb9f3a"
             ],
             [
              0.8888888888888888,
              "#fdca26"
             ],
             [
              1,
              "#f0f921"
             ]
            ],
            "type": "heatmap"
           }
          ],
          "heatmapgl": [
           {
            "colorbar": {
             "outlinewidth": 0,
             "ticks": ""
            },
            "colorscale": [
             [
              0,
              "#0d0887"
             ],
             [
              0.1111111111111111,
              "#46039f"
             ],
             [
              0.2222222222222222,
              "#7201a8"
             ],
             [
              0.3333333333333333,
              "#9c179e"
             ],
             [
              0.4444444444444444,
              "#bd3786"
             ],
             [
              0.5555555555555556,
              "#d8576b"
             ],
             [
              0.6666666666666666,
              "#ed7953"
             ],
             [
              0.7777777777777778,
              "#fb9f3a"
             ],
             [
              0.8888888888888888,
              "#fdca26"
             ],
             [
              1,
              "#f0f921"
             ]
            ],
            "type": "heatmapgl"
           }
          ],
          "histogram": [
           {
            "marker": {
             "pattern": {
              "fillmode": "overlay",
              "size": 10,
              "solidity": 0.2
             }
            },
            "type": "histogram"
           }
          ],
          "histogram2d": [
           {
            "colorbar": {
             "outlinewidth": 0,
             "ticks": ""
            },
            "colorscale": [
             [
              0,
              "#0d0887"
             ],
             [
              0.1111111111111111,
              "#46039f"
             ],
             [
              0.2222222222222222,
              "#7201a8"
             ],
             [
              0.3333333333333333,
              "#9c179e"
             ],
             [
              0.4444444444444444,
              "#bd3786"
             ],
             [
              0.5555555555555556,
              "#d8576b"
             ],
             [
              0.6666666666666666,
              "#ed7953"
             ],
             [
              0.7777777777777778,
              "#fb9f3a"
             ],
             [
              0.8888888888888888,
              "#fdca26"
             ],
             [
              1,
              "#f0f921"
             ]
            ],
            "type": "histogram2d"
           }
          ],
          "histogram2dcontour": [
           {
            "colorbar": {
             "outlinewidth": 0,
             "ticks": ""
            },
            "colorscale": [
             [
              0,
              "#0d0887"
             ],
             [
              0.1111111111111111,
              "#46039f"
             ],
             [
              0.2222222222222222,
              "#7201a8"
             ],
             [
              0.3333333333333333,
              "#9c179e"
             ],
             [
              0.4444444444444444,
              "#bd3786"
             ],
             [
              0.5555555555555556,
              "#d8576b"
             ],
             [
              0.6666666666666666,
              "#ed7953"
             ],
             [
              0.7777777777777778,
              "#fb9f3a"
             ],
             [
              0.8888888888888888,
              "#fdca26"
             ],
             [
              1,
              "#f0f921"
             ]
            ],
            "type": "histogram2dcontour"
           }
          ],
          "mesh3d": [
           {
            "colorbar": {
             "outlinewidth": 0,
             "ticks": ""
            },
            "type": "mesh3d"
           }
          ],
          "parcoords": [
           {
            "line": {
             "colorbar": {
              "outlinewidth": 0,
              "ticks": ""
             }
            },
            "type": "parcoords"
           }
          ],
          "pie": [
           {
            "automargin": true,
            "type": "pie"
           }
          ],
          "scatter": [
           {
            "fillpattern": {
             "fillmode": "overlay",
             "size": 10,
             "solidity": 0.2
            },
            "type": "scatter"
           }
          ],
          "scatter3d": [
           {
            "line": {
             "colorbar": {
              "outlinewidth": 0,
              "ticks": ""
             }
            },
            "marker": {
             "colorbar": {
              "outlinewidth": 0,
              "ticks": ""
             }
            },
            "type": "scatter3d"
           }
          ],
          "scattercarpet": [
           {
            "marker": {
             "colorbar": {
              "outlinewidth": 0,
              "ticks": ""
             }
            },
            "type": "scattercarpet"
           }
          ],
          "scattergeo": [
           {
            "marker": {
             "colorbar": {
              "outlinewidth": 0,
              "ticks": ""
             }
            },
            "type": "scattergeo"
           }
          ],
          "scattergl": [
           {
            "marker": {
             "colorbar": {
              "outlinewidth": 0,
              "ticks": ""
             }
            },
            "type": "scattergl"
           }
          ],
          "scattermapbox": [
           {
            "marker": {
             "colorbar": {
              "outlinewidth": 0,
              "ticks": ""
             }
            },
            "type": "scattermapbox"
           }
          ],
          "scatterpolar": [
           {
            "marker": {
             "colorbar": {
              "outlinewidth": 0,
              "ticks": ""
             }
            },
            "type": "scatterpolar"
           }
          ],
          "scatterpolargl": [
           {
            "marker": {
             "colorbar": {
              "outlinewidth": 0,
              "ticks": ""
             }
            },
            "type": "scatterpolargl"
           }
          ],
          "scatterternary": [
           {
            "marker": {
             "colorbar": {
              "outlinewidth": 0,
              "ticks": ""
             }
            },
            "type": "scatterternary"
           }
          ],
          "surface": [
           {
            "colorbar": {
             "outlinewidth": 0,
             "ticks": ""
            },
            "colorscale": [
             [
              0,
              "#0d0887"
             ],
             [
              0.1111111111111111,
              "#46039f"
             ],
             [
              0.2222222222222222,
              "#7201a8"
             ],
             [
              0.3333333333333333,
              "#9c179e"
             ],
             [
              0.4444444444444444,
              "#bd3786"
             ],
             [
              0.5555555555555556,
              "#d8576b"
             ],
             [
              0.6666666666666666,
              "#ed7953"
             ],
             [
              0.7777777777777778,
              "#fb9f3a"
             ],
             [
              0.8888888888888888,
              "#fdca26"
             ],
             [
              1,
              "#f0f921"
             ]
            ],
            "type": "surface"
           }
          ],
          "table": [
           {
            "cells": {
             "fill": {
              "color": "#EBF0F8"
             },
             "line": {
              "color": "white"
             }
            },
            "header": {
             "fill": {
              "color": "#C8D4E3"
             },
             "line": {
              "color": "white"
             }
            },
            "type": "table"
           }
          ]
         },
         "layout": {
          "annotationdefaults": {
           "arrowcolor": "#2a3f5f",
           "arrowhead": 0,
           "arrowwidth": 1
          },
          "autotypenumbers": "strict",
          "coloraxis": {
           "colorbar": {
            "outlinewidth": 0,
            "ticks": ""
           }
          },
          "colorscale": {
           "diverging": [
            [
             0,
             "#8e0152"
            ],
            [
             0.1,
             "#c51b7d"
            ],
            [
             0.2,
             "#de77ae"
            ],
            [
             0.3,
             "#f1b6da"
            ],
            [
             0.4,
             "#fde0ef"
            ],
            [
             0.5,
             "#f7f7f7"
            ],
            [
             0.6,
             "#e6f5d0"
            ],
            [
             0.7,
             "#b8e186"
            ],
            [
             0.8,
             "#7fbc41"
            ],
            [
             0.9,
             "#4d9221"
            ],
            [
             1,
             "#276419"
            ]
           ],
           "sequential": [
            [
             0,
             "#0d0887"
            ],
            [
             0.1111111111111111,
             "#46039f"
            ],
            [
             0.2222222222222222,
             "#7201a8"
            ],
            [
             0.3333333333333333,
             "#9c179e"
            ],
            [
             0.4444444444444444,
             "#bd3786"
            ],
            [
             0.5555555555555556,
             "#d8576b"
            ],
            [
             0.6666666666666666,
             "#ed7953"
            ],
            [
             0.7777777777777778,
             "#fb9f3a"
            ],
            [
             0.8888888888888888,
             "#fdca26"
            ],
            [
             1,
             "#f0f921"
            ]
           ],
           "sequentialminus": [
            [
             0,
             "#0d0887"
            ],
            [
             0.1111111111111111,
             "#46039f"
            ],
            [
             0.2222222222222222,
             "#7201a8"
            ],
            [
             0.3333333333333333,
             "#9c179e"
            ],
            [
             0.4444444444444444,
             "#bd3786"
            ],
            [
             0.5555555555555556,
             "#d8576b"
            ],
            [
             0.6666666666666666,
             "#ed7953"
            ],
            [
             0.7777777777777778,
             "#fb9f3a"
            ],
            [
             0.8888888888888888,
             "#fdca26"
            ],
            [
             1,
             "#f0f921"
            ]
           ]
          },
          "colorway": [
           "#636efa",
           "#EF553B",
           "#00cc96",
           "#ab63fa",
           "#FFA15A",
           "#19d3f3",
           "#FF6692",
           "#B6E880",
           "#FF97FF",
           "#FECB52"
          ],
          "font": {
           "color": "#2a3f5f"
          },
          "geo": {
           "bgcolor": "white",
           "lakecolor": "white",
           "landcolor": "#E5ECF6",
           "showlakes": true,
           "showland": true,
           "subunitcolor": "white"
          },
          "hoverlabel": {
           "align": "left"
          },
          "hovermode": "closest",
          "mapbox": {
           "style": "light"
          },
          "paper_bgcolor": "white",
          "plot_bgcolor": "#E5ECF6",
          "polar": {
           "angularaxis": {
            "gridcolor": "white",
            "linecolor": "white",
            "ticks": ""
           },
           "bgcolor": "#E5ECF6",
           "radialaxis": {
            "gridcolor": "white",
            "linecolor": "white",
            "ticks": ""
           }
          },
          "scene": {
           "xaxis": {
            "backgroundcolor": "#E5ECF6",
            "gridcolor": "white",
            "gridwidth": 2,
            "linecolor": "white",
            "showbackground": true,
            "ticks": "",
            "zerolinecolor": "white"
           },
           "yaxis": {
            "backgroundcolor": "#E5ECF6",
            "gridcolor": "white",
            "gridwidth": 2,
            "linecolor": "white",
            "showbackground": true,
            "ticks": "",
            "zerolinecolor": "white"
           },
           "zaxis": {
            "backgroundcolor": "#E5ECF6",
            "gridcolor": "white",
            "gridwidth": 2,
            "linecolor": "white",
            "showbackground": true,
            "ticks": "",
            "zerolinecolor": "white"
           }
          },
          "shapedefaults": {
           "line": {
            "color": "#2a3f5f"
           }
          },
          "ternary": {
           "aaxis": {
            "gridcolor": "white",
            "linecolor": "white",
            "ticks": ""
           },
           "baxis": {
            "gridcolor": "white",
            "linecolor": "white",
            "ticks": ""
           },
           "bgcolor": "#E5ECF6",
           "caxis": {
            "gridcolor": "white",
            "linecolor": "white",
            "ticks": ""
           }
          },
          "title": {
           "x": 0.05
          },
          "xaxis": {
           "automargin": true,
           "gridcolor": "white",
           "linecolor": "white",
           "ticks": "",
           "title": {
            "standoff": 15
           },
           "zerolinecolor": "white",
           "zerolinewidth": 2
          },
          "yaxis": {
           "automargin": true,
           "gridcolor": "white",
           "linecolor": "white",
           "ticks": "",
           "title": {
            "standoff": 15
           },
           "zerolinecolor": "white",
           "zerolinewidth": 2
          }
         }
        },
        "title": {
         "text": "Top 20 Shows with Shared Actors with Community Cast"
        },
        "xaxis": {
         "anchor": "y",
         "autorange": true,
         "domain": [
          0,
          1
         ],
         "range": [
          -0.5,
          19.5
         ],
         "title": {
          "text": "Movie/TV Show"
         },
         "type": "category"
        },
        "yaxis": {
         "anchor": "x",
         "autorange": true,
         "domain": [
          0,
          1
         ],
         "range": [
          0,
          55.78947368421053
         ],
         "title": {
          "text": "Number of Shared Actors"
         },
         "type": "linear"
        }
       }
      },
      "image/png": "[encoded data removed]",
      "text/html": [
       "<div>                            <div id=\"f52703d8-9e2e-457c-8796-aef455547c5f\" class=\"plotly-graph-div\" style=\"height:700px; width:100%;\"></div>            <script type=\"text/javascript\">                require([\"plotly\"], function(Plotly) {                    window.PLOTLYENV=window.PLOTLYENV || {};                                    if (document.getElementById(\"f52703d8-9e2e-457c-8796-aef455547c5f\")) {                    Plotly.newPlot(                        \"f52703d8-9e2e-457c-8796-aef455547c5f\",                        [{\"alignmentgroup\":\"True\",\"hovertemplate\":\"Movie/TV Show=%{x}<br>Number of Shared Actors=%{y}<extra></extra>\",\"legendgroup\":\"\",\"marker\":{\"color\":\"#636efa\",\"pattern\":{\"shape\":\"\"}},\"name\":\"\",\"offsetgroup\":\"\",\"orientation\":\"v\",\"showlegend\":false,\"textposition\":\"auto\",\"texttemplate\":\"%{y:.2s}\",\"x\":[\"CSI: Crime Scene Investigation\",\"Brooklyn Nine-Nine\",\"American Dad!\",\"Modern Family\",\"Bones\",\"Curb Your Enthusiasm\",\"NCIS\",\"Criminal Minds\",\"Castle\",\"New Girl\",\"Parks and Recreation\",\"How I Met Your Mother\",\"Drunk History\",\"Malcolm in the Middle\",\"The View\",\"Family Guy\",\"Jimmy Kimmel Live!\",\"Conan\",\"ER\",\"The Simpsons\"],\"xaxis\":\"x\",\"y\":[53,46,44,41,40,38,36,36,35,35,33,33,30,30,30,29,28,25,25,24],\"yaxis\":\"y\",\"type\":\"bar\"}],                        {\"template\":{\"data\":{\"histogram2dcontour\":[{\"type\":\"histogram2dcontour\",\"colorbar\":{\"outlinewidth\":0,\"ticks\":\"\"},\"colorscale\":[[0.0,\"#0d0887\"],[0.1111111111111111,\"#46039f\"],[0.2222222222222222,\"#7201a8\"],[0.3333333333333333,\"#9c179e\"],[0.4444444444444444,\"#bd3786\"],[0.5555555555555556,\"#d8576b\"],[0.6666666666666666,\"#ed7953\"],[0.7777777777777778,\"#fb9f3a\"],[0.8888888888888888,\"#fdca26\"],[1.0,\"#f0f921\"]]}],\"choropleth\":[{\"type\":\"choropleth\",\"colorbar\":{\"outlinewidth\":0,\"ticks\":\"\"}}],\"histogram2d\":[{\"type\":\"histogram2d\",\"colorbar\":{\"outlinewidth\":0,\"ticks\":\"\"},\"colorscale\":[[0.0,\"#0d0887\"],[0.1111111111111111,\"#46039f\"],[0.2222222222222222,\"#7201a8\"],[0.3333333333333333,\"#9c179e\"],[0.4444444444444444,\"#bd3786\"],[0.5555555555555556,\"#d8576b\"],[0.6666666666666666,\"#ed7953\"],[0.7777777777777778,\"#fb9f3a\"],[0.8888888888888888,\"#fdca26\"],[1.0,\"#f0f921\"]]}],\"heatmap\":[{\"type\":\"heatmap\",\"colorbar\":{\"outlinewidth\":0,\"ticks\":\"\"},\"colorscale\":[[0.0,\"#0d0887\"],[0.1111111111111111,\"#46039f\"],[0.2222222222222222,\"#7201a8\"],[0.3333333333333333,\"#9c179e\"],[0.4444444444444444,\"#bd3786\"],[0.5555555555555556,\"#d8576b\"],[0.6666666666666666,\"#ed7953\"],[0.7777777777777778,\"#fb9f3a\"],[0.8888888888888888,\"#fdca26\"],[1.0,\"#f0f921\"]]}],\"heatmapgl\":[{\"type\":\"heatmapgl\",\"colorbar\":{\"outlinewidth\":0,\"ticks\":\"\"},\"colorscale\":[[0.0,\"#0d0887\"],[0.1111111111111111,\"#46039f\"],[0.2222222222222222,\"#7201a8\"],[0.3333333333333333,\"#9c179e\"],[0.4444444444444444,\"#bd3786\"],[0.5555555555555556,\"#d8576b\"],[0.6666666666666666,\"#ed7953\"],[0.7777777777777778,\"#fb9f3a\"],[0.8888888888888888,\"#fdca26\"],[1.0,\"#f0f921\"]]}],\"contourcarpet\":[{\"type\":\"contourcarpet\",\"colorbar\":{\"outlinewidth\":0,\"ticks\":\"\"}}],\"contour\":[{\"type\":\"contour\",\"colorbar\":{\"outlinewidth\":0,\"ticks\":\"\"},\"colorscale\":[[0.0,\"#0d0887\"],[0.1111111111111111,\"#46039f\"],[0.2222222222222222,\"#7201a8\"],[0.3333333333333333,\"#9c179e\"],[0.4444444444444444,\"#bd3786\"],[0.5555555555555556,\"#d8576b\"],[0.6666666666666666,\"#ed7953\"],[0.7777777777777778,\"#fb9f3a\"],[0.8888888888888888,\"#fdca26\"],[1.0,\"#f0f921\"]]}],\"surface\":[{\"type\":\"surface\",\"colorbar\":{\"outlinewidth\":0,\"ticks\":\"\"},\"colorscale\":[[0.0,\"#0d0887\"],[0.1111111111111111,\"#46039f\"],[0.2222222222222222,\"#7201a8\"],[0.3333333333333333,\"#9c179e\"],[0.4444444444444444,\"#bd3786\"],[0.5555555555555556,\"#d8576b\"],[0.6666666666666666,\"#ed7953\"],[0.7777777777777778,\"#fb9f3a\"],[0.8888888888888888,\"#fdca26\"],[1.0,\"#f0f921\"]]}],\"mesh3d\":[{\"type\":\"mesh3d\",\"colorbar\":{\"outlinewidth\":0,\"ticks\":\"\"}}],\"scatter\":[{\"fillpattern\":{\"fillmode\":\"overlay\",\"size\":10,\"solidity\":0.2},\"type\":\"scatter\"}],\"parcoords\":[{\"type\":\"parcoords\",\"line\":{\"colorbar\":{\"outlinewidth\":0,\"ticks\":\"\"}}}],\"scatterpolargl\":[{\"type\":\"scatterpolargl\",\"marker\":{\"colorbar\":{\"outlinewidth\":0,\"ticks\":\"\"}}}],\"bar\":[{\"error_x\":{\"color\":\"#2a3f5f\"},\"error_y\":{\"color\":\"#2a3f5f\"},\"marker\":{\"line\":{\"color\":\"#E5ECF6\",\"width\":0.5},\"pattern\":{\"fillmode\":\"overlay\",\"size\":10,\"solidity\":0.2}},\"type\":\"bar\"}],\"scattergeo\":[{\"type\":\"scattergeo\",\"marker\":{\"colorbar\":{\"outlinewidth\":0,\"ticks\":\"\"}}}],\"scatterpolar\":[{\"type\":\"scatterpolar\",\"marker\":{\"colorbar\":{\"outlinewidth\":0,\"ticks\":\"\"}}}],\"histogram\":[{\"marker\":{\"pattern\":{\"fillmode\":\"overlay\",\"size\":10,\"solidity\":0.2}},\"type\":\"histogram\"}],\"scattergl\":[{\"type\":\"scattergl\",\"marker\":{\"colorbar\":{\"outlinewidth\":0,\"ticks\":\"\"}}}],\"scatter3d\":[{\"type\":\"scatter3d\",\"line\":{\"colorbar\":{\"outlinewidth\":0,\"ticks\":\"\"}},\"marker\":{\"colorbar\":{\"outlinewidth\":0,\"ticks\":\"\"}}}],\"scattermapbox\":[{\"type\":\"scattermapbox\",\"marker\":{\"colorbar\":{\"outlinewidth\":0,\"ticks\":\"\"}}}],\"scatterternary\":[{\"type\":\"scatterternary\",\"marker\":{\"colorbar\":{\"outlinewidth\":0,\"ticks\":\"\"}}}],\"scattercarpet\":[{\"type\":\"scattercarpet\",\"marker\":{\"colorbar\":{\"outlinewidth\":0,\"ticks\":\"\"}}}],\"carpet\":[{\"aaxis\":{\"endlinecolor\":\"#2a3f5f\",\"gridcolor\":\"white\",\"linecolor\":\"white\",\"minorgridcolor\":\"white\",\"startlinecolor\":\"#2a3f5f\"},\"baxis\":{\"endlinecolor\":\"#2a3f5f\",\"gridcolor\":\"white\",\"linecolor\":\"white\",\"minorgridcolor\":\"white\",\"startlinecolor\":\"#2a3f5f\"},\"type\":\"carpet\"}],\"table\":[{\"cells\":{\"fill\":{\"color\":\"#EBF0F8\"},\"line\":{\"color\":\"white\"}},\"header\":{\"fill\":{\"color\":\"#C8D4E3\"},\"line\":{\"color\":\"white\"}},\"type\":\"table\"}],\"barpolar\":[{\"marker\":{\"line\":{\"color\":\"#E5ECF6\",\"width\":0.5},\"pattern\":{\"fillmode\":\"overlay\",\"size\":10,\"solidity\":0.2}},\"type\":\"barpolar\"}],\"pie\":[{\"automargin\":true,\"type\":\"pie\"}]},\"layout\":{\"autotypenumbers\":\"strict\",\"colorway\":[\"#636efa\",\"#EF553B\",\"#00cc96\",\"#ab63fa\",\"#FFA15A\",\"#19d3f3\",\"#FF6692\",\"#B6E880\",\"#FF97FF\",\"#FECB52\"],\"font\":{\"color\":\"#2a3f5f\"},\"hovermode\":\"closest\",\"hoverlabel\":{\"align\":\"left\"},\"paper_bgcolor\":\"white\",\"plot_bgcolor\":\"#E5ECF6\",\"polar\":{\"bgcolor\":\"#E5ECF6\",\"angularaxis\":{\"gridcolor\":\"white\",\"linecolor\":\"white\",\"ticks\":\"\"},\"radialaxis\":{\"gridcolor\":\"white\",\"linecolor\":\"white\",\"ticks\":\"\"}},\"ternary\":{\"bgcolor\":\"#E5ECF6\",\"aaxis\":{\"gridcolor\":\"white\",\"linecolor\":\"white\",\"ticks\":\"\"},\"baxis\":{\"gridcolor\":\"white\",\"linecolor\":\"white\",\"ticks\":\"\"},\"caxis\":{\"gridcolor\":\"white\",\"linecolor\":\"white\",\"ticks\":\"\"}},\"coloraxis\":{\"colorbar\":{\"outlinewidth\":0,\"ticks\":\"\"}},\"colorscale\":{\"sequential\":[[0.0,\"#0d0887\"],[0.1111111111111111,\"#46039f\"],[0.2222222222222222,\"#7201a8\"],[0.3333333333333333,\"#9c179e\"],[0.4444444444444444,\"#bd3786\"],[0.5555555555555556,\"#d8576b\"],[0.6666666666666666,\"#ed7953\"],[0.7777777777777778,\"#fb9f3a\"],[0.8888888888888888,\"#fdca26\"],[1.0,\"#f0f921\"]],\"sequentialminus\":[[0.0,\"#0d0887\"],[0.1111111111111111,\"#46039f\"],[0.2222222222222222,\"#7201a8\"],[0.3333333333333333,\"#9c179e\"],[0.4444444444444444,\"#bd3786\"],[0.5555555555555556,\"#d8576b\"],[0.6666666666666666,\"#ed7953\"],[0.7777777777777778,\"#fb9f3a\"],[0.8888888888888888,\"#fdca26\"],[1.0,\"#f0f921\"]],\"diverging\":[[0,\"#8e0152\"],[0.1,\"#c51b7d\"],[0.2,\"#de77ae\"],[0.3,\"#f1b6da\"],[0.4,\"#fde0ef\"],[0.5,\"#f7f7f7\"],[0.6,\"#e6f5d0\"],[0.7,\"#b8e186\"],[0.8,\"#7fbc41\"],[0.9,\"#4d9221\"],[1,\"#276419\"]]},\"xaxis\":{\"gridcolor\":\"white\",\"linecolor\":\"white\",\"ticks\":\"\",\"title\":{\"standoff\":15},\"zerolinecolor\":\"white\",\"automargin\":true,\"zerolinewidth\":2},\"yaxis\":{\"gridcolor\":\"white\",\"linecolor\":\"white\",\"ticks\":\"\",\"title\":{\"standoff\":15},\"zerolinecolor\":\"white\",\"automargin\":true,\"zerolinewidth\":2},\"scene\":{\"xaxis\":{\"backgroundcolor\":\"#E5ECF6\",\"gridcolor\":\"white\",\"linecolor\":\"white\",\"showbackground\":true,\"ticks\":\"\",\"zerolinecolor\":\"white\",\"gridwidth\":2},\"yaxis\":{\"backgroundcolor\":\"#E5ECF6\",\"gridcolor\":\"white\",\"linecolor\":\"white\",\"showbackground\":true,\"ticks\":\"\",\"zerolinecolor\":\"white\",\"gridwidth\":2},\"zaxis\":{\"backgroundcolor\":\"#E5ECF6\",\"gridcolor\":\"white\",\"linecolor\":\"white\",\"showbackground\":true,\"ticks\":\"\",\"zerolinecolor\":\"white\",\"gridwidth\":2}},\"shapedefaults\":{\"line\":{\"color\":\"#2a3f5f\"}},\"annotationdefaults\":{\"arrowcolor\":\"#2a3f5f\",\"arrowhead\":0,\"arrowwidth\":1},\"geo\":{\"bgcolor\":\"white\",\"landcolor\":\"#E5ECF6\",\"subunitcolor\":\"white\",\"showland\":true,\"showlakes\":true,\"lakecolor\":\"white\"},\"title\":{\"x\":0.05},\"mapbox\":{\"style\":\"light\"}}},\"xaxis\":{\"anchor\":\"y\",\"domain\":[0.0,1.0],\"title\":{\"text\":\"Movie/TV Show\"}},\"yaxis\":{\"anchor\":\"x\",\"domain\":[0.0,1.0],\"title\":{\"text\":\"Number of Shared Actors\"}},\"legend\":{\"tracegroupgap\":0},\"title\":{\"text\":\"Top 20 Shows with Shared Actors with Community Cast\"},\"barmode\":\"relative\",\"height\":700},                        {\"responsive\": true}                    ).then(function(){\n",
       "                            \n",
       "var gd = document.getElementById('f52703d8-9e2e-457c-8796-aef455547c5f');\n",
       "var x = new MutationObserver(function (mutations, observer) {{\n",
       "        var display = window.getComputedStyle(gd).display;\n",
       "        if (!display || display === 'none') {{\n",
       "            console.log([gd, 'removed!']);\n",
       "            Plotly.purge(gd);\n",
       "            observer.disconnect();\n",
       "        }}\n",
       "}});\n",
       "\n",
       "// Listen for the removal of the full notebook cells\n",
       "var notebookContainer = gd.closest('#notebook-container');\n",
       "if (notebookContainer) {{\n",
       "    x.observe(notebookContainer, {childList: true});\n",
       "}}\n",
       "\n",
       "// Listen for the clearing of the current output cell\n",
       "var outputEl = gd.closest('.output');\n",
       "if (outputEl) {{\n",
       "    x.observe(outputEl, {childList: true});\n",
       "}}\n",
       "\n",
       "                        })                };                });            </script>        </div>"
      ]
     },
     "metadata": {},
     "output_type": "display_data"
    }
   ],
   "source": [
    "import plotly.express as px\n",
    "\n",
    "fig = px.bar(t20_shared_movies,\n",
    "            x = 'movie_or_TV_name',\n",
    "            y = 'actor',\n",
    "            labels = {'movie_or_TV_name': 'Movie/TV Show',\n",
    "                     'actor': 'Number of Shared Actors'},\n",
    "            title = \"Top 20 Shows with Shared Actors with Community Cast\",\n",
    "            height = 700,\n",
    "            text_auto = '.2s')\n",
    "# fig.show(renderer = 'notebook')\n",
    "fig.show()"
   ]
  },
  {
   "cell_type": "markdown",
   "id": "bc5aff8e-b570-4a19-a392-8158570980c4",
   "metadata": {},
   "source": [
    "This ranking of shows with shared actors is interesting. Coming into this post, I expected that there would be at least some Marvel movie, given that *Community* is directed by the Russo Brothers, and a majority of the cast has appeared on some of their movies. Instead, we are given many different TV shows. This makes sense given that people have the potential to make guest appearances to most of these shows. Likewise, *Community* itself is a show with many guest appearances due to their many homages to popular culture and movie tropes. A future direction would be to select only the actors who appear in a \"majority\" of episodes, and to only include recurring characters (not one episode guest appearances), to see if this list would change. However, we can see from this that the whole cast of Community has a wide array of actors with popular TV shows on their filmography."
   ]
  }
 ],
 "metadata": {
  "kernelspec": {
   "display_name": "Python [conda env:PIC16B] *",
   "language": "python",
   "name": "conda-env-PIC16B-py"
  },
  "language_info": {
   "codemirror_mode": {
    "name": "ipython",
    "version": 3
   },
   "file_extension": ".py",
   "mimetype": "text/x-python",
   "name": "python",
   "nbconvert_exporter": "python",
   "pygments_lexer": "ipython3",
   "version": "3.8.15"
  }
 },
 "nbformat": 4,
 "nbformat_minor": 5
}
